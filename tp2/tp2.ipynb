{
 "cells": [
  {
   "cell_type": "markdown",
   "id": "0829a5c2",
   "metadata": {},
   "source": [
    "# <center>**Trabajo Práctico Número 2**</center>\n",
    "### <center>**Regresión del valor de valor medio de casas en distritos de California**</center>\n",
    "#### <center>Introducción a la Inteligencia Artificial - CEIA & DPLN, Fiuba</center>\n",
    "\n",
    "<center><img width=\"35%\" src=\"https://lh5.googleusercontent.com/cPAoMij8-mRhQEFe6cf2R1bncilBk29i0DaUS7EkqUcLb4IdcbjCUaBXcU9k-T59JJDuOkvsB_PDdKa0F3Q54_sAdIi_4tNK5oHYmT20OLV64mFLoiq2G2L-9ihkDdgJSg=w1280\"/></center>\n",
    "\n",
    "_________\n",
    "\n",
    "**Integrantes del grupo**\n",
    "- Argento, Lucas\n",
    "- Espínola, Carla\n",
    "- Gambarte, Antonella\n",
    "- Putrino, Daniela\n",
    "- Silvera, Ricardo\n",
    "---------"
   ]
  }
 ],
 "metadata": {
  "language_info": {
   "name": "python"
  }
 },
 "nbformat": 4,
 "nbformat_minor": 5
}
