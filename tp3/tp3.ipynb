{
 "cells": [
  {
   "cell_type": "markdown",
   "id": "a441cfac",
   "metadata": {},
   "source": [
    "# <center>**Trabajo Práctico Número 3**</center>\n",
    "\n",
    "### <center>**Detector de SPAM**</center>\n",
    "\n",
    "#### <center>Introducción a la Inteligencia Artificial - CEIA & DPLN, Fiuba</center>\n",
    "\n",
    "<center><img width=\"35%\" src=\"https://lh5.googleusercontent.com/cPAoMij8-mRhQEFe6cf2R1bncilBk29i0DaUS7EkqUcLb4IdcbjCUaBXcU9k-T59JJDuOkvsB_PDdKa0F3Q54_sAdIi_4tNK5oHYmT20OLV64mFLoiq2G2L-9ihkDdgJSg=w1280\"/></center>\n",
    "\n",
    "---\n",
    "\n",
    "**Integrantes del grupo**\n",
    "\n",
    "- Argento, Lucas\n",
    "- Espínola, Carla\n",
    "- Gambarte, Antonella\n",
    "- Putrino, Daniela\n",
    "- Silvera, Ricardo\n",
    "\n",
    "---\n"
   ]
  }
 ],
 "metadata": {
  "language_info": {
   "name": "python"
  }
 },
 "nbformat": 4,
 "nbformat_minor": 5
}
