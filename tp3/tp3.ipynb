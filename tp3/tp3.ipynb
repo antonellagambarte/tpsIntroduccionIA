{
  "cells": [
    {
      "cell_type": "markdown",
      "id": "a441cfac",
      "metadata": {
        "id": "a441cfac"
      },
      "source": [
        "# <center>**Trabajo Práctico Número 3**</center>\n",
        "\n",
        "### <center>**Detector de SPAM**</center>\n",
        "\n",
        "#### <center>Introducción a la Inteligencia Artificial - CEIA & DPLN, Fiuba</center>\n",
        "\n",
        "<center><img width=\"35%\" src=\"https://lh5.googleusercontent.com/cPAoMij8-mRhQEFe6cf2R1bncilBk29i0DaUS7EkqUcLb4IdcbjCUaBXcU9k-T59JJDuOkvsB_PDdKa0F3Q54_sAdIi_4tNK5oHYmT20OLV64mFLoiq2G2L-9ihkDdgJSg=w1280\"/></center>\n",
        "\n",
        "---\n",
        "\n",
        "**Integrantes del grupo**\n",
        "\n",
        "- Argento, Lucas\n",
        "- Espínola, Carla\n",
        "- Gambarte, Antonella\n",
        "- Putrino, Daniela\n",
        "- Silvera, Ricardo\n",
        "\n",
        "---\n"
      ]
    },
    {
      "cell_type": "markdown",
      "id": "TADfXChZFELy",
      "metadata": {
        "id": "TADfXChZFELy"
      },
      "source": [
        "Dado que el contenido de los correos electrónicos es un tipo de dato no estructurado, es necesario procesarlo. En este conjunto de datos ya se ha aplicado un procesamiento típico del campo de Procesamiento de Lenguaje Natural (NLP), que consiste en contar la frecuencia de palabras observadas en los mensajes.\n",
        "\n",
        "Con el fin de preservar la privacidad de los mensajes, la frecuencia de palabras ha sido normalizada. El conjunto de datos está compuesto por 54 columnas de atributos denominadas:\n",
        "\n",
        "    word_freq_XXXX: donde XXXX representa una palabra o símbolo. Los valores son enteros que van de 0 a 20.000.\n",
        "\n",
        "Además, incluye una columna adicional llamada **spam, que toma el valor 1 si el correo es SPAM, y 0 si no lo es.**\n"
      ]
    },
    {
      "cell_type": "code",
      "execution_count": null,
      "id": "T6KlB9ESGlpF",
      "metadata": {
        "colab": {
          "base_uri": "https://localhost:8080/"
        },
        "id": "T6KlB9ESGlpF",
        "outputId": "ce7ecef1-a7da-4d7e-9b07-7ed6d93a7a5c"
      },
      "outputs": [
        {
          "name": "stderr",
          "output_type": "stream",
          "text": [
            "[nltk_data] Downloading package stopwords to\n",
            "[nltk_data]     C:\\Users\\Antonella\\AppData\\Roaming\\nltk_data...\n",
            "[nltk_data]   Package stopwords is already up-to-date!\n"
          ]
        }
      ],
      "source": [
        "import numpy as np\n",
        "import pandas as pd\n",
        "import matplotlib.pyplot as plt\n",
        "import seaborn as sns\n",
        "import nltk\n",
        "nltk.download('stopwords')\n",
        "from nltk.corpus import stopwords\n",
        "from sklearn.model_selection import train_test_split\n",
        "from sklearn.naive_bayes import GaussianNB, MultinomialNB\n",
        "from sklearn.linear_model import LogisticRegression\n",
        "from sklearn.preprocessing import StandardScaler\n",
        "from sklearn.metrics import classification_report, confusion_matrix, precision_score, recall_score, roc_curve, auc"
      ]
    },
    {
      "cell_type": "code",
      "execution_count": null,
      "id": "anhSFg0AGpkz",
      "metadata": {
        "colab": {
          "base_uri": "https://localhost:8080/",
          "height": 444
        },
        "id": "anhSFg0AGpkz",
        "outputId": "e851ccb9-b062-47e9-a30e-da05a407b721"
      },
      "outputs": [
        {
          "data": {
            "text/html": [
              "<div>\n",
              "<style scoped>\n",
              "    .dataframe tbody tr th:only-of-type {\n",
              "        vertical-align: middle;\n",
              "    }\n",
              "\n",
              "    .dataframe tbody tr th {\n",
              "        vertical-align: top;\n",
              "    }\n",
              "\n",
              "    .dataframe thead th {\n",
              "        text-align: right;\n",
              "    }\n",
              "</style>\n",
              "<table border=\"1\" class=\"dataframe\">\n",
              "  <thead>\n",
              "    <tr style=\"text-align: right;\">\n",
              "      <th></th>\n",
              "      <th>word_freq_make</th>\n",
              "      <th>word_freq_address</th>\n",
              "      <th>word_freq_all</th>\n",
              "      <th>word_freq_3d</th>\n",
              "      <th>word_freq_our</th>\n",
              "      <th>word_freq_over</th>\n",
              "      <th>word_freq_remove</th>\n",
              "      <th>word_freq_internet</th>\n",
              "      <th>word_freq_order</th>\n",
              "      <th>word_freq_mail</th>\n",
              "      <th>...</th>\n",
              "      <th>word_freq_edu</th>\n",
              "      <th>word_freq_table</th>\n",
              "      <th>word_freq_conference</th>\n",
              "      <th>char_freq_;</th>\n",
              "      <th>char_freq_(</th>\n",
              "      <th>char_freq_[</th>\n",
              "      <th>char_freq_!</th>\n",
              "      <th>char_freq_$</th>\n",
              "      <th>char_freq_#</th>\n",
              "      <th>spam</th>\n",
              "    </tr>\n",
              "  </thead>\n",
              "  <tbody>\n",
              "    <tr>\n",
              "      <th>0</th>\n",
              "      <td>0</td>\n",
              "      <td>640</td>\n",
              "      <td>640</td>\n",
              "      <td>0</td>\n",
              "      <td>320</td>\n",
              "      <td>0</td>\n",
              "      <td>0</td>\n",
              "      <td>0</td>\n",
              "      <td>0</td>\n",
              "      <td>0</td>\n",
              "      <td>...</td>\n",
              "      <td>0</td>\n",
              "      <td>0</td>\n",
              "      <td>0</td>\n",
              "      <td>0</td>\n",
              "      <td>0</td>\n",
              "      <td>0</td>\n",
              "      <td>778</td>\n",
              "      <td>0</td>\n",
              "      <td>0</td>\n",
              "      <td>1</td>\n",
              "    </tr>\n",
              "    <tr>\n",
              "      <th>1</th>\n",
              "      <td>210</td>\n",
              "      <td>280</td>\n",
              "      <td>500</td>\n",
              "      <td>0</td>\n",
              "      <td>140</td>\n",
              "      <td>280</td>\n",
              "      <td>210</td>\n",
              "      <td>70</td>\n",
              "      <td>0</td>\n",
              "      <td>940</td>\n",
              "      <td>...</td>\n",
              "      <td>0</td>\n",
              "      <td>0</td>\n",
              "      <td>0</td>\n",
              "      <td>0</td>\n",
              "      <td>132</td>\n",
              "      <td>0</td>\n",
              "      <td>372</td>\n",
              "      <td>180</td>\n",
              "      <td>48</td>\n",
              "      <td>1</td>\n",
              "    </tr>\n",
              "    <tr>\n",
              "      <th>2</th>\n",
              "      <td>60</td>\n",
              "      <td>0</td>\n",
              "      <td>710</td>\n",
              "      <td>0</td>\n",
              "      <td>1230</td>\n",
              "      <td>190</td>\n",
              "      <td>190</td>\n",
              "      <td>120</td>\n",
              "      <td>640</td>\n",
              "      <td>250</td>\n",
              "      <td>...</td>\n",
              "      <td>60</td>\n",
              "      <td>0</td>\n",
              "      <td>0</td>\n",
              "      <td>10</td>\n",
              "      <td>143</td>\n",
              "      <td>0</td>\n",
              "      <td>276</td>\n",
              "      <td>184</td>\n",
              "      <td>10</td>\n",
              "      <td>1</td>\n",
              "    </tr>\n",
              "    <tr>\n",
              "      <th>3</th>\n",
              "      <td>0</td>\n",
              "      <td>0</td>\n",
              "      <td>0</td>\n",
              "      <td>0</td>\n",
              "      <td>630</td>\n",
              "      <td>0</td>\n",
              "      <td>310</td>\n",
              "      <td>630</td>\n",
              "      <td>310</td>\n",
              "      <td>630</td>\n",
              "      <td>...</td>\n",
              "      <td>0</td>\n",
              "      <td>0</td>\n",
              "      <td>0</td>\n",
              "      <td>0</td>\n",
              "      <td>137</td>\n",
              "      <td>0</td>\n",
              "      <td>137</td>\n",
              "      <td>0</td>\n",
              "      <td>0</td>\n",
              "      <td>1</td>\n",
              "    </tr>\n",
              "    <tr>\n",
              "      <th>4</th>\n",
              "      <td>0</td>\n",
              "      <td>0</td>\n",
              "      <td>0</td>\n",
              "      <td>0</td>\n",
              "      <td>630</td>\n",
              "      <td>0</td>\n",
              "      <td>310</td>\n",
              "      <td>630</td>\n",
              "      <td>310</td>\n",
              "      <td>630</td>\n",
              "      <td>...</td>\n",
              "      <td>0</td>\n",
              "      <td>0</td>\n",
              "      <td>0</td>\n",
              "      <td>0</td>\n",
              "      <td>135</td>\n",
              "      <td>0</td>\n",
              "      <td>135</td>\n",
              "      <td>0</td>\n",
              "      <td>0</td>\n",
              "      <td>1</td>\n",
              "    </tr>\n",
              "    <tr>\n",
              "      <th>...</th>\n",
              "      <td>...</td>\n",
              "      <td>...</td>\n",
              "      <td>...</td>\n",
              "      <td>...</td>\n",
              "      <td>...</td>\n",
              "      <td>...</td>\n",
              "      <td>...</td>\n",
              "      <td>...</td>\n",
              "      <td>...</td>\n",
              "      <td>...</td>\n",
              "      <td>...</td>\n",
              "      <td>...</td>\n",
              "      <td>...</td>\n",
              "      <td>...</td>\n",
              "      <td>...</td>\n",
              "      <td>...</td>\n",
              "      <td>...</td>\n",
              "      <td>...</td>\n",
              "      <td>...</td>\n",
              "      <td>...</td>\n",
              "      <td>...</td>\n",
              "    </tr>\n",
              "    <tr>\n",
              "      <th>4596</th>\n",
              "      <td>310</td>\n",
              "      <td>0</td>\n",
              "      <td>620</td>\n",
              "      <td>0</td>\n",
              "      <td>0</td>\n",
              "      <td>310</td>\n",
              "      <td>0</td>\n",
              "      <td>0</td>\n",
              "      <td>0</td>\n",
              "      <td>0</td>\n",
              "      <td>...</td>\n",
              "      <td>310</td>\n",
              "      <td>0</td>\n",
              "      <td>0</td>\n",
              "      <td>0</td>\n",
              "      <td>232</td>\n",
              "      <td>0</td>\n",
              "      <td>0</td>\n",
              "      <td>0</td>\n",
              "      <td>0</td>\n",
              "      <td>0</td>\n",
              "    </tr>\n",
              "    <tr>\n",
              "      <th>4597</th>\n",
              "      <td>0</td>\n",
              "      <td>0</td>\n",
              "      <td>0</td>\n",
              "      <td>0</td>\n",
              "      <td>0</td>\n",
              "      <td>0</td>\n",
              "      <td>0</td>\n",
              "      <td>0</td>\n",
              "      <td>0</td>\n",
              "      <td>0</td>\n",
              "      <td>...</td>\n",
              "      <td>2000</td>\n",
              "      <td>0</td>\n",
              "      <td>0</td>\n",
              "      <td>0</td>\n",
              "      <td>0</td>\n",
              "      <td>0</td>\n",
              "      <td>353</td>\n",
              "      <td>0</td>\n",
              "      <td>0</td>\n",
              "      <td>0</td>\n",
              "    </tr>\n",
              "    <tr>\n",
              "      <th>4598</th>\n",
              "      <td>300</td>\n",
              "      <td>0</td>\n",
              "      <td>300</td>\n",
              "      <td>0</td>\n",
              "      <td>0</td>\n",
              "      <td>0</td>\n",
              "      <td>0</td>\n",
              "      <td>0</td>\n",
              "      <td>0</td>\n",
              "      <td>0</td>\n",
              "      <td>...</td>\n",
              "      <td>1200</td>\n",
              "      <td>0</td>\n",
              "      <td>0</td>\n",
              "      <td>102</td>\n",
              "      <td>718</td>\n",
              "      <td>0</td>\n",
              "      <td>0</td>\n",
              "      <td>0</td>\n",
              "      <td>0</td>\n",
              "      <td>0</td>\n",
              "    </tr>\n",
              "    <tr>\n",
              "      <th>4599</th>\n",
              "      <td>960</td>\n",
              "      <td>0</td>\n",
              "      <td>0</td>\n",
              "      <td>0</td>\n",
              "      <td>320</td>\n",
              "      <td>0</td>\n",
              "      <td>0</td>\n",
              "      <td>0</td>\n",
              "      <td>0</td>\n",
              "      <td>0</td>\n",
              "      <td>...</td>\n",
              "      <td>320</td>\n",
              "      <td>0</td>\n",
              "      <td>0</td>\n",
              "      <td>0</td>\n",
              "      <td>57</td>\n",
              "      <td>0</td>\n",
              "      <td>0</td>\n",
              "      <td>0</td>\n",
              "      <td>0</td>\n",
              "      <td>0</td>\n",
              "    </tr>\n",
              "    <tr>\n",
              "      <th>4600</th>\n",
              "      <td>0</td>\n",
              "      <td>0</td>\n",
              "      <td>650</td>\n",
              "      <td>0</td>\n",
              "      <td>0</td>\n",
              "      <td>0</td>\n",
              "      <td>0</td>\n",
              "      <td>0</td>\n",
              "      <td>0</td>\n",
              "      <td>0</td>\n",
              "      <td>...</td>\n",
              "      <td>650</td>\n",
              "      <td>0</td>\n",
              "      <td>0</td>\n",
              "      <td>0</td>\n",
              "      <td>0</td>\n",
              "      <td>0</td>\n",
              "      <td>125</td>\n",
              "      <td>0</td>\n",
              "      <td>0</td>\n",
              "      <td>0</td>\n",
              "    </tr>\n",
              "  </tbody>\n",
              "</table>\n",
              "<p>4601 rows × 55 columns</p>\n",
              "</div>"
            ],
            "text/plain": [
              "      word_freq_make  word_freq_address  word_freq_all  word_freq_3d  \\\n",
              "0                  0                640            640             0   \n",
              "1                210                280            500             0   \n",
              "2                 60                  0            710             0   \n",
              "3                  0                  0              0             0   \n",
              "4                  0                  0              0             0   \n",
              "...              ...                ...            ...           ...   \n",
              "4596             310                  0            620             0   \n",
              "4597               0                  0              0             0   \n",
              "4598             300                  0            300             0   \n",
              "4599             960                  0              0             0   \n",
              "4600               0                  0            650             0   \n",
              "\n",
              "      word_freq_our  word_freq_over  word_freq_remove  word_freq_internet  \\\n",
              "0               320               0                 0                   0   \n",
              "1               140             280               210                  70   \n",
              "2              1230             190               190                 120   \n",
              "3               630               0               310                 630   \n",
              "4               630               0               310                 630   \n",
              "...             ...             ...               ...                 ...   \n",
              "4596              0             310                 0                   0   \n",
              "4597              0               0                 0                   0   \n",
              "4598              0               0                 0                   0   \n",
              "4599            320               0                 0                   0   \n",
              "4600              0               0                 0                   0   \n",
              "\n",
              "      word_freq_order  word_freq_mail  ...  word_freq_edu  word_freq_table  \\\n",
              "0                   0               0  ...              0                0   \n",
              "1                   0             940  ...              0                0   \n",
              "2                 640             250  ...             60                0   \n",
              "3                 310             630  ...              0                0   \n",
              "4                 310             630  ...              0                0   \n",
              "...               ...             ...  ...            ...              ...   \n",
              "4596                0               0  ...            310                0   \n",
              "4597                0               0  ...           2000                0   \n",
              "4598                0               0  ...           1200                0   \n",
              "4599                0               0  ...            320                0   \n",
              "4600                0               0  ...            650                0   \n",
              "\n",
              "      word_freq_conference  char_freq_;  char_freq_(  char_freq_[  \\\n",
              "0                        0            0            0            0   \n",
              "1                        0            0          132            0   \n",
              "2                        0           10          143            0   \n",
              "3                        0            0          137            0   \n",
              "4                        0            0          135            0   \n",
              "...                    ...          ...          ...          ...   \n",
              "4596                     0            0          232            0   \n",
              "4597                     0            0            0            0   \n",
              "4598                     0          102          718            0   \n",
              "4599                     0            0           57            0   \n",
              "4600                     0            0            0            0   \n",
              "\n",
              "      char_freq_!  char_freq_$  char_freq_#  spam  \n",
              "0             778            0            0     1  \n",
              "1             372          180           48     1  \n",
              "2             276          184           10     1  \n",
              "3             137            0            0     1  \n",
              "4             135            0            0     1  \n",
              "...           ...          ...          ...   ...  \n",
              "4596            0            0            0     0  \n",
              "4597          353            0            0     0  \n",
              "4598            0            0            0     0  \n",
              "4599            0            0            0     0  \n",
              "4600          125            0            0     0  \n",
              "\n",
              "[4601 rows x 55 columns]"
            ]
          },
          "execution_count": 84,
          "metadata": {},
          "output_type": "execute_result"
        }
      ],
      "source": [
        "df = pd.read_csv('spambase.csv')\n",
        "df"
      ]
    },
    {
      "cell_type": "code",
      "execution_count": null,
      "id": "07OCCKWkIyJL",
      "metadata": {
        "colab": {
          "base_uri": "https://localhost:8080/",
          "height": 204
        },
        "id": "07OCCKWkIyJL",
        "outputId": "34fb92ef-8b8a-4dd6-f283-3ba08d3e3c76"
      },
      "outputs": [
        {
          "data": {
            "text/html": [
              "<div>\n",
              "<style scoped>\n",
              "    .dataframe tbody tr th:only-of-type {\n",
              "        vertical-align: middle;\n",
              "    }\n",
              "\n",
              "    .dataframe tbody tr th {\n",
              "        vertical-align: top;\n",
              "    }\n",
              "\n",
              "    .dataframe thead tr th {\n",
              "        text-align: left;\n",
              "    }\n",
              "\n",
              "    .dataframe thead tr:last-of-type th {\n",
              "        text-align: right;\n",
              "    }\n",
              "</style>\n",
              "<table border=\"1\" class=\"dataframe\">\n",
              "  <thead>\n",
              "    <tr>\n",
              "      <th></th>\n",
              "      <th colspan=\"8\" halign=\"left\">word_freq_make</th>\n",
              "      <th colspan=\"2\" halign=\"left\">word_freq_address</th>\n",
              "      <th>...</th>\n",
              "      <th colspan=\"2\" halign=\"left\">char_freq_$</th>\n",
              "      <th colspan=\"8\" halign=\"left\">char_freq_#</th>\n",
              "    </tr>\n",
              "    <tr>\n",
              "      <th></th>\n",
              "      <th>count</th>\n",
              "      <th>mean</th>\n",
              "      <th>std</th>\n",
              "      <th>min</th>\n",
              "      <th>25%</th>\n",
              "      <th>50%</th>\n",
              "      <th>75%</th>\n",
              "      <th>max</th>\n",
              "      <th>count</th>\n",
              "      <th>mean</th>\n",
              "      <th>...</th>\n",
              "      <th>75%</th>\n",
              "      <th>max</th>\n",
              "      <th>count</th>\n",
              "      <th>mean</th>\n",
              "      <th>std</th>\n",
              "      <th>min</th>\n",
              "      <th>25%</th>\n",
              "      <th>50%</th>\n",
              "      <th>75%</th>\n",
              "      <th>max</th>\n",
              "    </tr>\n",
              "    <tr>\n",
              "      <th>spam</th>\n",
              "      <th></th>\n",
              "      <th></th>\n",
              "      <th></th>\n",
              "      <th></th>\n",
              "      <th></th>\n",
              "      <th></th>\n",
              "      <th></th>\n",
              "      <th></th>\n",
              "      <th></th>\n",
              "      <th></th>\n",
              "      <th></th>\n",
              "      <th></th>\n",
              "      <th></th>\n",
              "      <th></th>\n",
              "      <th></th>\n",
              "      <th></th>\n",
              "      <th></th>\n",
              "      <th></th>\n",
              "      <th></th>\n",
              "      <th></th>\n",
              "      <th></th>\n",
              "    </tr>\n",
              "  </thead>\n",
              "  <tbody>\n",
              "    <tr>\n",
              "      <th>0</th>\n",
              "      <td>2788.0</td>\n",
              "      <td>73.479197</td>\n",
              "      <td>297.838434</td>\n",
              "      <td>0.0</td>\n",
              "      <td>0.0</td>\n",
              "      <td>0.0</td>\n",
              "      <td>0.0</td>\n",
              "      <td>4340.0</td>\n",
              "      <td>2788.0</td>\n",
              "      <td>244.465208</td>\n",
              "      <td>...</td>\n",
              "      <td>0.0</td>\n",
              "      <td>2037.0</td>\n",
              "      <td>2788.0</td>\n",
              "      <td>21.713056</td>\n",
              "      <td>243.911642</td>\n",
              "      <td>0.0</td>\n",
              "      <td>0.0</td>\n",
              "      <td>0.0</td>\n",
              "      <td>0.0</td>\n",
              "      <td>7407.0</td>\n",
              "    </tr>\n",
              "    <tr>\n",
              "      <th>1</th>\n",
              "      <td>1813.0</td>\n",
              "      <td>152.338665</td>\n",
              "      <td>310.644921</td>\n",
              "      <td>0.0</td>\n",
              "      <td>0.0</td>\n",
              "      <td>0.0</td>\n",
              "      <td>170.0</td>\n",
              "      <td>4540.0</td>\n",
              "      <td>1813.0</td>\n",
              "      <td>164.649752</td>\n",
              "      <td>...</td>\n",
              "      <td>211.0</td>\n",
              "      <td>6003.0</td>\n",
              "      <td>1813.0</td>\n",
              "      <td>78.876448</td>\n",
              "      <td>611.940076</td>\n",
              "      <td>0.0</td>\n",
              "      <td>0.0</td>\n",
              "      <td>0.0</td>\n",
              "      <td>18.0</td>\n",
              "      <td>19829.0</td>\n",
              "    </tr>\n",
              "  </tbody>\n",
              "</table>\n",
              "<p>2 rows × 432 columns</p>\n",
              "</div>"
            ],
            "text/plain": [
              "     word_freq_make                                                        \\\n",
              "              count        mean         std  min  25%  50%    75%     max   \n",
              "spam                                                                        \n",
              "0            2788.0   73.479197  297.838434  0.0  0.0  0.0    0.0  4340.0   \n",
              "1            1813.0  152.338665  310.644921  0.0  0.0  0.0  170.0  4540.0   \n",
              "\n",
              "     word_freq_address              ... char_freq_$         char_freq_#  \\\n",
              "                 count        mean  ...         75%     max       count   \n",
              "spam                                ...                                   \n",
              "0               2788.0  244.465208  ...         0.0  2037.0      2788.0   \n",
              "1               1813.0  164.649752  ...       211.0  6003.0      1813.0   \n",
              "\n",
              "                                                           \n",
              "           mean         std  min  25%  50%   75%      max  \n",
              "spam                                                       \n",
              "0     21.713056  243.911642  0.0  0.0  0.0   0.0   7407.0  \n",
              "1     78.876448  611.940076  0.0  0.0  0.0  18.0  19829.0  \n",
              "\n",
              "[2 rows x 432 columns]"
            ]
          },
          "execution_count": 85,
          "metadata": {},
          "output_type": "execute_result"
        }
      ],
      "source": [
        "#Análisis descriptivo\n",
        "df.groupby('spam').describe()"
      ]
    },
    {
      "cell_type": "code",
      "execution_count": null,
      "id": "abJwbJXiGz_6",
      "metadata": {
        "colab": {
          "base_uri": "https://localhost:8080/",
          "height": 178
        },
        "id": "abJwbJXiGz_6",
        "outputId": "d3f57d2f-0e6c-4058-bf68-656921be70b5"
      },
      "outputs": [
        {
          "data": {
            "text/plain": [
              "spam\n",
              "0    2788\n",
              "1    1813\n",
              "Name: count, dtype: int64"
            ]
          },
          "execution_count": 86,
          "metadata": {},
          "output_type": "execute_result"
        }
      ],
      "source": [
        "df.value_counts('spam')"
      ]
    },
    {
      "cell_type": "code",
      "execution_count": null,
      "id": "-0TCut8aHY39",
      "metadata": {
        "colab": {
          "base_uri": "https://localhost:8080/"
        },
        "id": "-0TCut8aHY39",
        "outputId": "1320b49f-4f63-4199-b35d-f2ad8261d33e"
      },
      "outputs": [
        {
          "name": "stdout",
          "output_type": "stream",
          "text": [
            "65\n"
          ]
        }
      ],
      "source": [
        "#Desbalance de clases\n",
        "# 65% de proporción de no spam\n",
        "print(round(df.value_counts('spam')[1]/df.value_counts('spam')[0]*100))"
      ]
    },
    {
      "cell_type": "markdown",
      "id": "T7corVdlA5lu",
      "metadata": {
        "id": "T7corVdlA5lu"
      },
      "source": [
        "### **1. ¿Cuáles son las 10 palabras o símbolos más frecuentes en correos SPAM y en correos NO SPAM?**\n",
        "\n",
        "    * ¿Hay palabras o símbolos en común?\n",
        "    * ¿Alguna resulta llamativa?\n"
      ]
    },
    {
      "cell_type": "code",
      "execution_count": null,
      "id": "fWY-zHq_AvMl",
      "metadata": {
        "colab": {
          "base_uri": "https://localhost:8080/"
        },
        "id": "fWY-zHq_AvMl",
        "outputId": "76eda3cf-1598-482f-dbb9-8e5da02cfc43"
      },
      "outputs": [
        {
          "name": "stdout",
          "output_type": "stream",
          "text": [
            "word_freq_you         4105599\n",
            "word_freq_your        2502597\n",
            "word_freq_will         997100\n",
            "word_freq_free         939790\n",
            "word_freq_our          931799\n",
            "char_freq_!            931352\n",
            "word_freq_all          732080\n",
            "word_freq_mail         635470\n",
            "word_freq_email        578759\n",
            "word_freq_business     521250\n",
            "dtype: int64\n"
          ]
        }
      ],
      "source": [
        "#Separamos el df en spam y no spam\n",
        "df_spam = df[df['spam'] == 1]\n",
        "df_no_spam = df[df['spam'] == 0]\n",
        "\n",
        "X = df.columns.drop('spam')\n",
        "\n",
        "#Nos quedamos con las 10 columnas de mayor frecuencia para cada clase\n",
        "top_10_spam = df_spam[X].sum().nlargest(10)\n",
        "top_10_no_spam = df_no_spam[X].sum().nlargest(10)\n",
        "\n",
        "print(top_10_spam)"
      ]
    },
    {
      "cell_type": "code",
      "execution_count": null,
      "id": "RaX_jVRTB7Jp",
      "metadata": {
        "colab": {
          "base_uri": "https://localhost:8080/",
          "height": 727
        },
        "id": "RaX_jVRTB7Jp",
        "outputId": "8bb92d5f-059e-400b-aa1d-5019244e9d16"
      },
      "outputs": [
        {
          "data": {
            "image/png": "[encoded data removed]",
            "text/plain": [
              "<Figure size 1800x700 with 2 Axes>"
            ]
          },
          "metadata": {},
          "output_type": "display_data"
        }
      ],
      "source": [
        "#Graficamos los resultados\n",
        "fig, axes = plt.subplots(1, 2, figsize=(18, 7))\n",
        "\n",
        "sns.barplot(x=top_10_spam.values, y=top_10_spam.index, ax=axes[0])\n",
        "axes[0].set_title('Top 10 Palabras/Símbolos más Frecuentes en SPAM')\n",
        "axes[0].set_xlabel('Frecuencia Total')\n",
        "\n",
        "sns.barplot(x=top_10_no_spam.values, y=top_10_no_spam.index, ax=axes[1])\n",
        "axes[1].set_title('Top 10 Palabras/Símbolos más Frecuentes en NO SPAM')\n",
        "axes[1].set_xlabel('Frecuencia Total')\n",
        "\n",
        "plt.tight_layout()\n",
        "plt.show()"
      ]
    },
    {
      "cell_type": "code",
      "execution_count": null,
      "id": "EYJTfZ2LCUJ_",
      "metadata": {
        "colab": {
          "base_uri": "https://localhost:8080/",
          "height": 115
        },
        "id": "EYJTfZ2LCUJ_",
        "outputId": "3142841f-3fb3-4592-a9ca-2e6f6ce8bf57"
      },
      "outputs": [
        {
          "data": {
            "text/plain": [
              "word_freq_you    4105599\n",
              "dtype: int64"
            ]
          },
          "execution_count": 90,
          "metadata": {},
          "output_type": "execute_result"
        }
      ],
      "source": [
        "#¿Hay palabras/símbolos en común? ¿Cuáles?\n",
        "top_10_spam.index.intersection(top_10_no_spam.index)"
      ]
    },
    {
      "cell_type": "markdown",
      "id": "x8dYOBr4C4Ns",
      "metadata": {
        "id": "x8dYOBr4C4Ns"
      },
      "source": [
        "La palabra \"you\" es compartida por ambas clases de mails.\n",
        "Vamos a volver a hacer la comparativa sin stopwords:\n"
      ]
    },
    {
      "cell_type": "code",
      "execution_count": null,
      "id": "CeR2A7XHKPoj",
      "metadata": {
        "colab": {
          "base_uri": "https://localhost:8080/"
        },
        "id": "CeR2A7XHKPoj",
        "outputId": "f94e85d4-0a7c-40b5-a3cb-a1ade8f29fc8"
      },
      "outputs": [
        {
          "name": "stdout",
          "output_type": "stream",
          "text": [
            "Hay 198 stopwords en inglés.\n",
            "Algunos ejemplos: ['in', 'during', 'over', \"didn't\"]\n"
          ]
        }
      ],
      "source": [
        "#Cargamos las stopwords de inglés\n",
        "stop_words = set(stopwords.words('english'))\n",
        "\n",
        "print(\"Hay\", len(stop_words), \"stopwords en inglés.\")\n",
        "print(\"Algunos ejemplos:\", list(stop_words)[:4])"
      ]
    },
    {
      "cell_type": "code",
      "execution_count": null,
      "id": "qmqXt9b3KUDh",
      "metadata": {
        "colab": {
          "base_uri": "https://localhost:8080/",
          "height": 763
        },
        "id": "qmqXt9b3KUDh",
        "outputId": "3095d458-727f-4419-a63a-a54a048ca4f4"
      },
      "outputs": [
        {
          "name": "stdout",
          "output_type": "stream",
          "text": [
            "Número de columnas de frecuencia original: 54\n",
            "Número de columnas después de quitar stopwords: 47\n"
          ]
        },
        {
          "data": {
            "image/png": "[encoded data removed]",
            "text/plain": [
              "<Figure size 1800x700 with 2 Axes>"
            ]
          },
          "metadata": {},
          "output_type": "display_data"
        }
      ],
      "source": [
        "# Filtramos las columnas para excluir las que son stopwords\n",
        "col_no_stopwords = []\n",
        "for col in X:\n",
        "    if col.startswith('word_freq_'):\n",
        "        word = col.replace('word_freq_', '')\n",
        "        if word not in stop_words:\n",
        "            col_no_stopwords.append(col)\n",
        "    else:\n",
        "        col_no_stopwords.append(col)\n",
        "\n",
        "print(f\"Número de columnas de frecuencia original: {len(X)}\")\n",
        "print(f\"Número de columnas después de quitar stopwords: {len(col_no_stopwords)}\")\n",
        "\n",
        "top_10_spam_no_sw = df_spam[col_no_stopwords].sum().nlargest(10)\n",
        "top_10_no_spam_no_sw = df_no_spam[col_no_stopwords].sum().nlargest(10)\n",
        "\n",
        "fig, axes = plt.subplots(1, 2, figsize=(18, 7))\n",
        "\n",
        "sns.barplot(x=top_10_spam_no_sw.values, y=top_10_spam_no_sw.index, ax=axes[0])\n",
        "axes[0].set_title('Top 10 en SPAM (sin stopwords)')\n",
        "axes[0].set_xlabel('Frecuencia Total')\n",
        "\n",
        "sns.barplot(x=top_10_no_spam_no_sw.values, y=top_10_no_spam_no_sw.index, ax=axes[1])\n",
        "axes[1].set_title('Top 10 en NO SPAM (sin stopwords)')\n",
        "axes[1].set_xlabel('Frecuencia Total')\n",
        "\n",
        "plt.tight_layout()\n",
        "plt.show()"
      ]
    },
    {
      "cell_type": "code",
      "execution_count": null,
      "id": "56ff5c27",
      "metadata": {},
      "outputs": [],
      "source": [
        "#¿Hay palabras/símbolos en común? ¿Cuáles?\n",
        "top_10_spam_no_sw.index.intersection(top_10_no_spam_no_sw.index)"
      ]
    },
    {
      "cell_type": "markdown",
      "id": "yh8ZXlN4E_V0",
      "metadata": {
        "id": "yh8ZXlN4E_V0"
      },
      "source": [
        "Ahora podemos notar que hay números en ambas clases que nos ha llamado la atención.\n",
        "Comparten \"mail\" entre las más frecuentes.\n",
        "Aún así lo relevanta para diferenciarlas son:\n",
        "\n",
        "1. En SPAM aparece el caracter !, y las palabras free y money como claves y discriminantes.\n",
        "2. Mientras que en No spam son comunes los nombres propios y referencias a meetings o address.\n"
      ]
    },
    {
      "cell_type": "markdown",
      "id": "26db3cfc",
      "metadata": {},
      "source": [
        "### **2. Separe el conjunto de datos en un conjunto de entrenamiento (70%) y uno de prueba (30%).**\n"
      ]
    },
    {
      "cell_type": "code",
      "execution_count": null,
      "id": "g8v5tfANLKx4",
      "metadata": {
        "id": "g8v5tfANLKx4"
      },
      "outputs": [],
      "source": [
        "#Separamos dataset en train y test\n",
        "#Usamos stratify dado que las clases No están balanceadas, como se observó al ppio., con un 65% de registros de No spam, de modo de conservar la proporción en ambos sets.\n",
        "X = df.drop('spam', axis=1)\n",
        "y = df['spam']\n",
        "\n",
        "X_train, X_test, y_train, y_test = train_test_split(X, y, test_size=0.3, random_state=42, stratify=y)"
      ]
    },
    {
      "cell_type": "markdown",
      "id": "948c868f",
      "metadata": {},
      "source": [
        "### **3. Utilizando un clasificador de Bayes ingenuo, entrene el modelo con el conjunto de entrenamiento.**\n"
      ]
    },
    {
      "cell_type": "markdown",
      "id": "toFflPBeGdwz",
      "metadata": {
        "id": "toFflPBeGdwz"
      },
      "source": [
        "# Modelo Bayesiano Ingenuo\n"
      ]
    },
    {
      "cell_type": "code",
      "execution_count": null,
      "id": "FFXxFsJOLbvQ",
      "metadata": {
        "colab": {
          "base_uri": "https://localhost:8080/"
        },
        "id": "FFXxFsJOLbvQ",
        "outputId": "a1683d3f-899e-469c-adbd-745c565e35f0"
      },
      "outputs": [
        {
          "name": "stdout",
          "output_type": "stream",
          "text": [
            "              precision    recall  f1-score   support\n",
            "\n",
            "           0       0.96      0.72      0.82       837\n",
            "           1       0.69      0.95      0.80       544\n",
            "\n",
            "    accuracy                           0.81      1381\n",
            "   macro avg       0.82      0.84      0.81      1381\n",
            "weighted avg       0.85      0.81      0.81      1381\n",
            "\n"
          ]
        }
      ],
      "source": [
        "nb_gauss = GaussianNB()\n",
        "nb_gauss.fit(X_train, y_train)\n",
        "\n",
        "y_pred_nb_gauss = nb_gauss.predict(X_test)\n",
        "\n",
        "print(classification_report(y_test, y_pred_nb_gauss))"
      ]
    },
    {
      "cell_type": "code",
      "execution_count": null,
      "id": "1EwwK5pxIjdX",
      "metadata": {
        "colab": {
          "base_uri": "https://localhost:8080/"
        },
        "id": "1EwwK5pxIjdX",
        "outputId": "320ce8e1-640d-4af3-bbc4-b91c16800331"
      },
      "outputs": [
        {
          "name": "stdout",
          "output_type": "stream",
          "text": [
            "              precision    recall  f1-score   support\n",
            "\n",
            "           0       0.97      0.82      0.89       837\n",
            "           1       0.77      0.96      0.86       544\n",
            "\n",
            "    accuracy                           0.87      1381\n",
            "   macro avg       0.87      0.89      0.87      1381\n",
            "weighted avg       0.89      0.87      0.87      1381\n",
            "\n"
          ]
        }
      ],
      "source": [
        "#Entrenamos un Multinomial Bayesiano ingenuo dado que encontramos que es mejor para estos casos que Gaussian:\n",
        "# \"The multinomial Naive Bayes classifier is suitable for classification with discrete features (e.g., word counts for text classification)\" de la docu de sklearn\n",
        "nb_multi = MultinomialNB()\n",
        "nb_multi.fit(X_train, y_train)\n",
        "\n",
        "y_pred_nb_multi = nb_multi.predict(X_test)\n",
        "\n",
        "print(classification_report(y_test, y_pred_nb_multi))"
      ]
    },
    {
      "cell_type": "markdown",
      "id": "88794ee7",
      "metadata": {},
      "source": [
        "### **4.Utilizando un clasificador de Regresión Logística, entrene el modelo con el conjunto de entrenamiento (en este caso, normalice los datos).**\n"
      ]
    },
    {
      "cell_type": "markdown",
      "id": "CmCRuj7kGory",
      "metadata": {
        "id": "CmCRuj7kGory"
      },
      "source": [
        "# Regresión Logística\n"
      ]
    },
    {
      "cell_type": "code",
      "execution_count": null,
      "id": "yuJRyCFQGmQw",
      "metadata": {
        "id": "yuJRyCFQGmQw"
      },
      "outputs": [],
      "source": [
        "#Estandarizamos para regresión logística\n",
        "scaler = StandardScaler()\n",
        "X_train_scaled = scaler.fit_transform(X_train)\n",
        "X_test_scaled = scaler.transform(X_test)"
      ]
    },
    {
      "cell_type": "code",
      "execution_count": null,
      "id": "Hh2aGj3-HXZa",
      "metadata": {
        "colab": {
          "base_uri": "https://localhost:8080/"
        },
        "id": "Hh2aGj3-HXZa",
        "outputId": "9fde4075-043e-41cd-ce3c-006f0a554f21"
      },
      "outputs": [
        {
          "name": "stdout",
          "output_type": "stream",
          "text": [
            "              precision    recall  f1-score   support\n",
            "\n",
            "           0       0.97      0.85      0.91       837\n",
            "           1       0.81      0.96      0.88       544\n",
            "\n",
            "    accuracy                           0.90      1381\n",
            "   macro avg       0.89      0.91      0.89      1381\n",
            "weighted avg       0.91      0.90      0.90      1381\n",
            "\n"
          ]
        },
        {
          "name": "stderr",
          "output_type": "stream",
          "text": [
            "c:\\Users\\Antonella\\anaconda3\\envs\\ia_env\\Lib\\site-packages\\sklearn\\utils\\validation.py:2732: UserWarning: X has feature names, but LogisticRegression was fitted without feature names\n",
            "  warnings.warn(\n"
          ]
        }
      ],
      "source": [
        "lr = LogisticRegression(max_iter=1000, random_state=42)\n",
        "lr.fit(X_train_scaled, y_train)\n",
        "\n",
        "y_pred_lr = lr.predict(X_test)\n",
        "\n",
        "print(classification_report(y_test, y_pred_lr))"
      ]
    },
    {
      "cell_type": "markdown",
      "id": "757ac20a",
      "metadata": {},
      "source": [
        "### **5. Calcule la matriz de confusión en el conjunto de prueba para ambos modelos.**\n",
        "\n",
        "    * ¿Qué tipo de error comete más cada modelo?\n",
        "    * ¿Cuál de los dos tipos de error considera más importante en este problema?\n"
      ]
    },
    {
      "cell_type": "code",
      "execution_count": null,
      "id": "db73db88",
      "metadata": {},
      "outputs": [
        {
          "data": {
            "image/png": "[encoded data removed]",
            "text/plain": [
              "<Figure size 640x480 with 2 Axes>"
            ]
          },
          "metadata": {},
          "output_type": "display_data"
        },
        {
          "data": {
            "image/png": "[encoded data removed]",
            "text/plain": [
              "<Figure size 640x480 with 2 Axes>"
            ]
          },
          "metadata": {},
          "output_type": "display_data"
        }
      ],
      "source": [
        "def plot_confusion(cm, title):\n",
        "    sns.heatmap(cm, annot=True, fmt='d', cmap='Blues')\n",
        "    plt.title(title)\n",
        "    plt.xlabel('Predicción')\n",
        "    plt.ylabel('Real')\n",
        "    plt.show()\n",
        "\n",
        "cm_nb = confusion_matrix(y_test,y_pred_nb_multi)\n",
        "cm_lr = confusion_matrix(y_test, y_pred_lr)\n",
        "\n",
        "plot_confusion(cm_nb, \"Matriz de Confusión - Modelo Bayesiano\")\n",
        "plot_confusion(cm_lr, \"Matriz de Confusión - Modelo Regresión Logística\")"
      ]
    },
    {
      "cell_type": "markdown",
      "id": "5ea99a49",
      "metadata": {},
      "source": [
        "Como se puede observar, en ambos modelos el error más común es el de falsos positivos, es decir, clasificar un correo como spam cuando en realidad no lo es. En menor medida, se comete el error de clasificar un correo como no spam cuando en realidad sí lo es.\n",
        "\n",
        "De estos errores, el más importante es el de falso positivo, ya que si se trata de un correo importante para el usuario y se lo clasifica como spam, el impacto puede llegar a ser significativo ya que dicho correo es descartado.\n"
      ]
    },
    {
      "cell_type": "markdown",
      "id": "FJLi_BV3EP8H",
      "metadata": {
        "id": "FJLi_BV3EP8H"
      },
      "source": [
        "### **6. Calcule las métricas de precisión (precision) y recuperación (recall) para ambos modelos.**\n",
        "- ¿Cuál es el mejor modelo según cada métrica?\n",
        "- ¿Cómo se relacionan estas métricas con los errores analizados en el punto anterior? Fundamente su respuesta."
      ]
    },
    {
      "cell_type": "code",
      "execution_count": null,
      "id": "5bf447cf",
      "metadata": {},
      "outputs": [],
      "source": [
        "# Calculo precision y recall para Naive Bayes\n",
        "precision_nb = precision_score(y_test, y_pred_nb_multi)\n",
        "recall_nb = recall_score(y_test, y_pred_nb_multi)\n",
        "\n",
        "print(f\"Métricas para el Modelo Bayesiano (Multinomial):\")\n",
        "print(f\"-  Precision: {precision_nb:.4f}\")\n",
        "print(f\"-  Recall: {recall_nb:.4f}\")\n",
        "print(\"-\"*50)\n",
        "\n",
        "# Calculo precision y recall para Regresión Logística\n",
        "precision_lr = precision_score(y_test, y_pred_lr)\n",
        "recall_lr = recall_score(y_test, y_pred_lr)\n",
        "\n",
        "print(f\"Métricas para el Modelo de Regresión Logística:\")\n",
        "print(f\"-  Precision: {precision_lr:.4f}\")\n",
        "print(f\"-  Recall: {recall_lr:.4f}\")"
      ]
    },
    {
      "cell_type": "markdown",
      "id": "1f7dbeaa",
      "metadata": {},
      "source": [
        "En cuando a recall (reconocimiento de spams que realmente son spams), ambos modelos son muy buenos.\n",
        "Sin embargo, la regresión logística comete menos errores de falso positivo y por eso tiene mejor precisión.\n",
        "Esto se da debido a las fórmulas que se usan para calcular estas métricas. Donde se observa que la fórmula de precisión es la única afectada, dado que el único número que cambia en los utilizados es el FP.\n",
        "\n",
        "Fórmulas:\n",
        "- Precisión = TP / (TP + FP) \n",
        "- Recall = TP / (TP + FN)"
      ]
    },
    {
      "cell_type": "markdown",
      "id": "e4f3dddd",
      "metadata": {},
      "source": [
        "### **7.  Obtenga la curva ROC y el AUC (Área Bajo la Curva ROC) de ambos modelos.**"
      ]
    },
    {
      "cell_type": "code",
      "execution_count": null,
      "id": "639f94f8",
      "metadata": {},
      "outputs": [],
      "source": [
        "# Obtengo probabilidades asignadas por cada modelo para la clase positiva (spam)\n",
        "y_prob_nb = nb_multi.predict_proba(X_test)[:, 1]\n",
        "y_prob_lr = lr.predict_proba(X_test_scaled)[:, 1]\n",
        "\n",
        "# Calculo cuva ROC y AUC\n",
        "fpr_nb, tpr_nb, _ = roc_curve(y_test, y_prob_nb)\n",
        "fpr_lr, tpr_lr, _ = roc_curve(y_test, y_prob_lr)\n",
        "\n",
        "auc_nb = auc(fpr_nb, tpr_nb)\n",
        "auc_lr = auc(fpr_lr, tpr_lr)\n",
        "\n",
        "# Grafico\n",
        "plt.figure(figsize=(10, 7))\n",
        "plt.plot(fpr_nb, tpr_nb, color='blue', lw=2, label=f'Naive Bayes (AUC = {auc_nb:.4f})')\n",
        "plt.plot(fpr_lr, tpr_lr, color='red', lw=2, label=f'Logistic Regression (AUC = {auc_lr:.4f})')\n",
        "plt.plot([0, 1], [0, 1], color='gray', lw=2, linestyle='--')\n",
        "plt.xlim([0.0, 1.0])\n",
        "plt.ylim([0.0, 1.05])\n",
        "plt.xlabel('Tasa de Falsos Positivos (FPR)')\n",
        "plt.ylabel('Tasa de Verdaderos Positivos (TPR)')\n",
        "plt.title('Curva ROC')\n",
        "plt.legend(loc=\"lower right\")\n",
        "plt.grid(True)\n",
        "plt.show()\n",
        "\n",
        "print(f\"AUC para el Modelo Bayesiano (Multinomial): {auc_nb:.4f}\")\n",
        "print(f\"AUC para el Modelo de Regresión Logística: {auc_lr:.4f}\")"
      ]
    },
    {
      "cell_type": "markdown",
      "id": "a0c282ec",
      "metadata": {},
      "source": [
        "#### Conclusión:\n",
        "Dados los resultados, el modelo de regresión logística es más preciso identificando no spam y, por lo tanto, mejor dado que es más importante no perder un mail crítico entre los spam.\n",
        "Sin embargo, son notables las métricas del modleo bayesiano teniendo en cuenta su simplicidad."
      ]
    },
    {
      "cell_type": "markdown",
      "id": "8aa54967",
      "metadata": {},
      "source": []
    }
  ],
  "metadata": {
    "colab": {
      "provenance": []
    },
    "kernelspec": {
      "display_name": "ia_env",
      "language": "python",
      "name": "python3"
    },
    "language_info": {
      "codemirror_mode": {
        "name": "ipython",
        "version": 3
      },
      "file_extension": ".py",
      "mimetype": "text/x-python",
      "name": "python",
      "nbconvert_exporter": "python",
      "pygments_lexer": "ipython3",
      "version": "3.11.12"
    }
  },
  "nbformat": 4,
  "nbformat_minor": 5
}
