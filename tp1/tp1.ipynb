{
 "cells": [
  {
   "attachments": {},
   "cell_type": "markdown",
   "id": "9c28b9dc",
   "metadata": {},
   "source": [
    "# <center>**Trabajo Práctico Número 1**</center>\n",
    "### <center>**Algoritmos de búsqueda en el problema de la Torre de Hanoi**</center>\n",
    "#### <center>Introducción a la Inteligencia Artificial - CEIA & DPLN, Fiuba</center>\n",
    "\n",
    "<center><img width=\"35%\" src=\"https://lh5.googleusercontent.com/cPAoMij8-mRhQEFe6cf2R1bncilBk29i0DaUS7EkqUcLb4IdcbjCUaBXcU9k-T59JJDuOkvsB_PDdKa0F3Q54_sAdIi_4tNK5oHYmT20OLV64mFLoiq2G2L-9ihkDdgJSg=w1280\"/></center>\n",
    "\n",
    "_________\n",
    "\n",
    "**Integrantes del grupo**\n",
    "- Argento, Lucas\n",
    "- Espínola, Carla\n",
    "- Gambarte, Antonella\n",
    "- Putrino, Daniela\n",
    "- Silvera, Ricardo\n",
    "---------"
   ]
  },
  {
   "cell_type": "markdown",
   "id": "170f2ecf",
   "metadata": {},
   "source": [
    "#### **1. ¿Cuáles son los PEAS de este problema?**\n",
    "\n",
    "- **Perfomance**: partiendo del estado inicial (cinco discos apilados de en varilla 1) moverlos a varilla 3, respetando las reglas del juego y resolviendo en la menor cantidad de operaciones / tiempo.\n",
    "\n",
    "- **Enviroment**: cinco discos de distintos tamaños, base con tres varillas.\n",
    "\n",
    "- **Actuators**: capacidad de mover los discos de una varilla a otra.\n",
    "\n",
    "- **Sensors**: capacidad de detectar del estado actual de las varillas (discos en cada una y orden de esos discos)."
   ]
  },
  {
   "cell_type": "markdown",
   "id": "0caff7f3",
   "metadata": {},
   "source": [
    "\n",
    "#### **2. ¿Cuáles son las propiedades del entorno de trabajo?**\n",
    "\n",
    "- **Totalmente observable**: el agente puede ver en todo momento el estado del entorno (posición de los discos en cada varilla).\n",
    "\n",
    "- **Determinista**: el siguiente estado esta determinado por el estado actual y la acción que ejecuta el agente.\n",
    "\n",
    "- **Secuencial**: la decisión actual puede afectar las decisiones futuras.\n",
    "\n",
    "- **Estático**: el entorno no se modifica mientras el agente delibera.\n",
    "\n",
    "- **Discreto**: tiene un número finito de estados distintos.\n",
    "\n",
    "- **Agente individual**\n"
   ]
  },
  {
   "cell_type": "markdown",
   "id": "c661c7e5",
   "metadata": {},
   "source": [
    "#### **3. En el contexto de este problema, defina los siguientes conceptos:**\n",
    "\n",
    "- **Estado**: Una configuración específica de los discos en las tres varillas, indicando en qué varilla está cada disco y su orden.\n",
    "- **Espacio de estados**: El conjunto de todos los posibles estados alcanzables mediante movimientos válidos de los discos en las distintas varillas.\n",
    "- **Árbol de búsqueda**: Representación de todos los estados posibles (nodos) y cómo llegamos a ellos (rama). Se recorren los caminos desde el estado inicias hasta llegar a al estado objetivo.\n",
    "- **Nodo de búsqueda**: Configuración intermedia de los discos entre el estado inicial y el final representada por un nodo en el árbol de búsqueda. En este nodo se sabe cómo se llegó a este estado, es decir, cuáles fueron las configuraciones y acciones previas (camino de la rama), qué número de movimiento es el actual (profundidad) y cuál es el costo acumulado.\n",
    "- **Objetivo**: Estado donde todos los discos están aplicados en la tercera varilla en forma de pirámide.\n",
    "- **Acción**: Movimiento permitido (rama del árbol) de uno de los discos hacia alguna de las varillas que no es la actual mientras se siga con las reglas del juego.\n",
    "- **Frontera**: Conjunto de nodos generados pero aún no explorados. Representa los posibles caminos a seguir en la búsqueda de la solución. Según el algoritmo que se use, puede ser una pila o una cola de estados a explorar.\n"
   ]
  },
  {
   "cell_type": "markdown",
   "id": "9cd808c5",
   "metadata": {},
   "source": [
    "#### **4. Implemente algun método de búsqueda**\n",
    "\n",
    "En este caso se eligió implementar el método de costo uniforme. Para asignar el costo de cada camino se aplicó la fórmula:\n",
    "\n",
    "_<center>costo_de_camino = 2^(numero_de_disco - 1)</center>_\n",
    "\n",
    "donde el número del disco va, en este problema en particular, del 1 al 5, 1 para el más pequeño y 5 para el más grande, por lo que mover un disco más grande es más costoso. Cabe aclarar que no existe un costo diferente real para mover un disco chico o uno grande. Se asignan estos costos solo a los fines de implementar el algoritmo de Dijkstra, ya que si el costo para todos los caminos es el mismo, el algoritmo sería igual que al de búsqueda en anchura.\n",
    "\n",
    "**Implementación:**\n"
   ]
  },
  {
   "cell_type": "code",
   "execution_count": 1,
   "id": "3815e298",
   "metadata": {},
   "outputs": [],
   "source": [
    "from aima_libs.hanoi_states import ProblemHanoi, StatesHanoi\n",
    "from aima_libs.tree_hanoi import NodeHanoi\n",
    "from queue import PriorityQueue\n",
    "\n",
    "def calculate_cost(disk_number):\n",
    "    move_cost = 2 ** (disk_number - 1)\n",
    "    return move_cost\n",
    "\n",
    "def uniform_cost_search(disks_amount):\n",
    "    initial_disks = list(range(disks_amount, 0, -1))\n",
    "    initial_state = StatesHanoi(initial_disks, [], [], max_disks=disks_amount)\n",
    "    goal_state = StatesHanoi([], [], initial_disks, max_disks=disks_amount)\n",
    "    problem = ProblemHanoi(initial=initial_state, goal=goal_state)\n",
    "    #Para prioridad\n",
    "    priority_queue = PriorityQueue()\n",
    "    #Para guardar nodos visitados\n",
    "    visited_nodes = {}\n",
    "    # Raíz del árbol\n",
    "    root = NodeHanoi(state=initial_state)\n",
    "    priority_queue.put((0, root))\n",
    "\n",
    "    while not priority_queue.empty():\n",
    "        priority_value, new_node = priority_queue.get()\n",
    "        frontier_nodes=new_node.expand(problem=problem)\n",
    "        new_node.state.accumulated_cost = priority_value\n",
    "        if problem.goal_test(new_node.state):\n",
    "            last_node = new_node\n",
    "            solution= last_node.solution()\n",
    "            metrics = {\n",
    "                \"last_node\": last_node,\n",
    "                \"max_depth\": new_node.depth,\n",
    "                \"cost_total\": new_node.state.accumulated_cost,\n",
    "                \"movements_total\": len(solution),\n",
    "            }\n",
    "            \n",
    "            return last_node, solution , metrics\n",
    "\n",
    "        if new_node.state in visited_nodes and visited_nodes[new_node.state] <= priority_value:\n",
    "            continue\n",
    "\n",
    "        # Marcar el nodo como visitado con su costo acumulado\n",
    "        visited_nodes[new_node.state] = priority_value\n",
    "\n",
    "        for node in frontier_nodes:\n",
    "            total_cost=priority_value + calculate_cost(node.action.disk)\n",
    "            priority_queue.put((total_cost, node))\n",
    "        \n",
    "    \n",
    "    print(\"No se encontró la solución\")\n",
    "    metrics = {\n",
    "                \"last_node\": None,\n",
    "                \"max_depth\": None,\n",
    "                \"cost_total\": None,\n",
    "            }\n",
    "    return None, None , metrics\n"
   ]
  },
  {
   "cell_type": "markdown",
   "id": "231e4084",
   "metadata": {},
   "source": [
    "> ##### Solución y métricas:\n"
   ]
  },
  {
   "cell_type": "code",
   "execution_count": 2,
   "id": "d2895cd2",
   "metadata": {
    "scrolled": true
   },
   "outputs": [
    {
     "name": "stdout",
     "output_type": "stream",
     "text": [
      "Move disk 1 from 1 to 3\n",
      "Move disk 2 from 1 to 2\n",
      "Move disk 1 from 3 to 2\n",
      "Move disk 3 from 1 to 3\n",
      "Move disk 1 from 2 to 1\n",
      "Move disk 2 from 2 to 3\n",
      "Move disk 1 from 1 to 3\n",
      "Move disk 4 from 1 to 2\n",
      "Move disk 1 from 3 to 2\n",
      "Move disk 2 from 3 to 1\n",
      "Move disk 1 from 2 to 1\n",
      "Move disk 3 from 3 to 2\n",
      "Move disk 1 from 1 to 3\n",
      "Move disk 2 from 1 to 2\n",
      "Move disk 1 from 3 to 2\n",
      "Move disk 5 from 1 to 3\n",
      "Move disk 1 from 2 to 1\n",
      "Move disk 2 from 2 to 3\n",
      "Move disk 1 from 1 to 3\n",
      "Move disk 3 from 2 to 1\n",
      "Move disk 1 from 3 to 2\n",
      "Move disk 2 from 3 to 1\n",
      "Move disk 1 from 2 to 1\n",
      "Move disk 4 from 2 to 3\n",
      "Move disk 1 from 1 to 3\n",
      "Move disk 2 from 1 to 2\n",
      "Move disk 1 from 3 to 2\n",
      "Move disk 3 from 1 to 3\n",
      "Move disk 1 from 2 to 1\n",
      "Move disk 2 from 2 to 3\n",
      "Move disk 1 from 1 to 3\n",
      "{'last_node': <Node HanoiState:  |  | 5 4 3 2 1>, 'max_depth': 31, 'cost_total': 80, 'movements_total': 31}\n"
     ]
    }
   ],
   "source": [
    "last_node, solution, metrics= uniform_cost_search(5)\n",
    "\n",
    "for act in solution:\n",
    "    print(act)\n",
    "\n",
    "print(metrics)"
   ]
  },
  {
   "cell_type": "markdown",
   "id": "23ac76dc",
   "metadata": {},
   "source": [
    "#### **5. ¿Cuál es la complejidad teórica en tiempo y memoria del algoritmo elegido?**\n",
    "\n",
    "- **Complejidad teórica en tiempo:** En el peor caso, la complejidad es O(b^d), donde b es el factor de ramificación (cantidad máxima de movimientos posibles desde un estado), d es la profundidad del nodo objetivo (cantidad de movimientos para llegar a la solución). Esto se debe a que el algoritmo puede llegar a expandir todos los nodos del espacio de estados antes de encontrar la solución óptima.\n",
    "\n",
    "- **Complejidad teórica en memoria:** También es O(b^d), ya que debe almacenar todos los nodos generados en la frontera (cola de prioridad) y los visitados.\n",
    "\n",
    "- **Aplicado a nuestro problema** el espacio de estados es O(3^n), ya que cada disco puede estar en cualquiera de las 3 varillas. Por lo tanto, tanto el tiempo como la memoria crecen exponencialmente con la cantidad de discos.\n"
   ]
  },
  {
   "cell_type": "markdown",
   "id": "bd02fc41",
   "metadata": {},
   "source": [
    "#### **6. A nivel de implementación, ¿cuánto tiempo y memoria utiliza el algoritmo? (Se recomienda ejecutarlo 10 veces y calcular el promedio y el desvío estándar de ambas métricas).**\n",
    "\n",
    "Código para medición de tiempo de ejecución y uso de memoria:\n"
   ]
  },
  {
   "cell_type": "code",
   "execution_count": 3,
   "id": "7ca2fcfc",
   "metadata": {},
   "outputs": [
    {
     "name": "stdout",
     "output_type": "stream",
     "text": [
      "18.5 ms ± 328 μs per loop (mean ± std. dev. of 7 runs, 100 loops each)\n"
     ]
    }
   ],
   "source": [
    "%%timeit\n",
    "\n",
    "## Tiempo de ejecución\n",
    "last_node, solution, metrics= uniform_cost_search(5)"
   ]
  },
  {
   "cell_type": "code",
   "execution_count": 4,
   "id": "57c3d479-461c-4059-859d-f469221f9c13",
   "metadata": {},
   "outputs": [
    {
     "name": "stdout",
     "output_type": "stream",
     "text": [
      "Time spent on run 0: 0.02017 seconds\n",
      "Time spent on run 1: 0.01896 seconds\n",
      "Time spent on run 2: 0.01827 seconds\n",
      "Time spent on run 3: 0.01869 seconds\n",
      "Time spent on run 4: 0.01812 seconds\n",
      "Time spent on run 5: 0.01846 seconds\n",
      "Time spent on run 6: 0.01829 seconds\n",
      "Time spent on run 7: 0.0182 seconds\n",
      "Time spent on run 8: 0.01823 seconds\n",
      "Time spent on run 9: 0.01825 seconds\n",
      "-------------------------------------\n",
      "Tiempo promedio: 18.562 ms\n",
      "Desvío estándar: 0.588 ms\n"
     ]
    }
   ],
   "source": [
    "import timeit\n",
    "import math\n",
    "\n",
    "def run_search():\n",
    "    last_node, solution, metrics = uniform_cost_search(5)\n",
    "\n",
    "number_of_runs = 10\n",
    "times = []\n",
    "\n",
    "for run in range(number_of_runs):\n",
    "    time = timeit.timeit(run_search, number=1)\n",
    "    print(f\"Time spent on run {run}: {round(time,5)} seconds\")\n",
    "    times.append(time)\n",
    "\n",
    "# Convert to ms\n",
    "times_ms = [t * 1000 for t in times]\n",
    "\n",
    "# avg and std dev\n",
    "avg_time = sum(times_ms) / len(times_ms)\n",
    "squared_diffs = [(t - avg_time) ** 2 for t in times_ms]\n",
    "std_dev = math.sqrt(sum(squared_diffs) / len(times_ms))\n",
    "\n",
    "print(\"-------------------------------------\")\n",
    "print(f\"Tiempo promedio: {avg_time:.3f} ms\")\n",
    "print(f\"Desvío estándar: {std_dev:.3f} ms\")"
   ]
  },
  {
   "cell_type": "code",
   "execution_count": 5,
   "id": "5e9775cf",
   "metadata": {},
   "outputs": [
    {
     "name": "stdout",
     "output_type": "stream",
     "text": [
      "Memoria pico en run 0: 0.24709 MB\n",
      "Memoria pico en run 1: 0.236 MB\n",
      "Memoria pico en run 2: 0.23512 MB\n",
      "Memoria pico en run 3: 0.23598 MB\n",
      "Memoria pico en run 4: 0.23575 MB\n",
      "Memoria pico en run 5: 0.23842 MB\n",
      "Memoria pico en run 6: 0.23604 MB\n",
      "Memoria pico en run 7: 0.23512 MB\n",
      "Memoria pico en run 8: 0.23568 MB\n",
      "Memoria pico en run 9: 0.23575 MB\n",
      "-------------------------------------\n",
      "Memoria pico promedio: 0.237 MB\n",
      "Desvío estándar: 0.003 MB\n"
     ]
    }
   ],
   "source": [
    "import tracemalloc\n",
    "\n",
    "tracemalloc.start()\n",
    "mem_usages = []\n",
    "\n",
    "for run in range(number_of_runs):\n",
    "    tracemalloc.start()\n",
    "    run_search()\n",
    "    _, memory_peak = tracemalloc.get_traced_memory()\n",
    "    tracemalloc.stop()\n",
    "\n",
    "    memory_peak_mb = memory_peak / (1024 * 1024)  # bytes → MB\n",
    "    print(f\"Memoria pico en run {run}: {round(memory_peak_mb, 5)} MB\")\n",
    "    mem_usages.append(memory_peak_mb)\n",
    "\n",
    "# Promedio y desvío estándar\n",
    "avg_mem = sum(mem_usages) / len(mem_usages)\n",
    "squared_diffs = [(m - avg_mem) ** 2 for m in mem_usages]\n",
    "std_dev_mem = math.sqrt(sum(squared_diffs) / len(mem_usages))\n",
    "\n",
    "print(\"-------------------------------------\")\n",
    "print(f\"Memoria pico promedio: {avg_mem:.3f} MB\")\n",
    "print(f\"Desvío estándar: {std_dev_mem:.3f} MB\")"
   ]
  },
  {
   "cell_type": "markdown",
   "id": "1ad9722b",
   "metadata": {},
   "source": [
    "**Luego de ejecutar el código 10 veces y realizar el cálculo del promedio y desvío estándar para cada métrica, se obtuvieron los siguientes resultados:**\n",
    "\n",
    "> **Tiempo de ejecución**\n",
    "\n",
    ">_Promedio:_ 18,562 ms  \n",
    "> _Desvío estándar:_  0,588 ms\n",
    "\n",
    "> **Memoria utilizada**\n",
    "\n",
    "> _Promedio:_ 0,237 MB  \n",
    "> _Desvío estándar:_ 0.003 MB\n"
   ]
  },
  {
   "cell_type": "markdown",
   "id": "e78596c4",
   "metadata": {},
   "source": [
    "#### **7. Si la solución óptima es de 2k - 1 movimientos (siendo k el número de discos), ¿qué tan lejos está la solución encontrada por el algoritmo implementado de esa solución óptima? (Se recomienda ejecutar al menos 10 veces y usar el promedio de los trayectos obtenidos).**"
   ]
  },
  {
   "cell_type": "code",
   "execution_count": 6,
   "id": "250db56a",
   "metadata": {},
   "outputs": [
    {
     "name": "stdout",
     "output_type": "stream",
     "text": [
      "Solución óptima para 5 discos: 31\n"
     ]
    }
   ],
   "source": [
    "disk_count = 5\n",
    "optimal_solution = 2**disk_count - 1\n",
    "print(f\"Solución óptima para {disk_count} discos:\", optimal_solution)"
   ]
  },
  {
   "cell_type": "code",
   "execution_count": 7,
   "id": "277a3002",
   "metadata": {},
   "outputs": [
    {
     "name": "stdout",
     "output_type": "stream",
     "text": [
      "Diferencia promedio en movimientos con la solución óptima: 0.0\n",
      "Desviación estándar de la diferencia: 0.0\n"
     ]
    }
   ],
   "source": [
    "num_runs = 10\n",
    "verbose = False\n",
    "differences = []\n",
    "for run in range(num_runs):\n",
    "    last_node, solution, metrics = uniform_cost_search(disk_count)\n",
    "    if last_node is not None:\n",
    "        if verbose:\n",
    "            print(f\"Ejecutando búsqueda de costo uniforme para {disk_count} discos:\")\n",
    "            print(f\"Profundidad máxima alcanzada: {metrics['max_depth']}\")\n",
    "            print(f\"Diferencia en movimientos con la solucion optima: {optimal_solution - metrics['max_depth']}\")\n",
    "        difference = optimal_solution - metrics['max_depth']\n",
    "        differences.append(difference)\n",
    "    else:\n",
    "        print(\"No se encontró solución.\")\n",
    "\n",
    "avg_dif = sum(differences) / len(differences)\n",
    "std_dif = (sum((x - avg_dif) ** 2 for x in differences) / len(differences)) ** 0.5\n",
    "print(f\"Diferencia promedio en movimientos con la solución óptima: {avg_dif}\")\n",
    "print(f\"Desviación estándar de la diferencia: {std_dif}\")"
   ]
  },
  {
   "cell_type": "markdown",
   "id": "eedf7a12",
   "metadata": {},
   "source": [
    "> **El algoritmo encuntra la solucion optima (31 movimientos). Esto no se modifica en las distintas ejecuciones, ya que es determinista y el estado inicial es siempre el mismo**"
   ]
  },
  {
   "cell_type": "markdown",
   "id": "45285337",
   "metadata": {
    "jp-MarkdownHeadingCollapsed": true
   },
   "source": [
    "#### **NOTA**: A continuación se agrega el código para generar los jsons necesarios para el simulador.\n"
   ]
  },
  {
   "cell_type": "code",
   "execution_count": 7,
   "id": "2c4fb805",
   "metadata": {},
   "outputs": [],
   "source": [
    "last_node, solution, metrics= uniform_cost_search(5)\n",
    "last_node.generate_solution_for_simulator()"
   ]
  },
  {
   "cell_type": "code",
   "execution_count": null,
   "id": "78e9dfce",
   "metadata": {},
   "outputs": [],
   "source": []
  }
 ],
 "metadata": {
  "kernelspec": {
   "display_name": "Python 3 (ipykernel)",
   "language": "python",
   "name": "python3"
  },
  "language_info": {
   "codemirror_mode": {
    "name": "ipython",
    "version": 3
   },
   "file_extension": ".py",
   "mimetype": "text/x-python",
   "name": "python",
   "nbconvert_exporter": "python",
   "pygments_lexer": "ipython3",
   "version": "3.13.3"
  }
 },
 "nbformat": 4,
 "nbformat_minor": 5
}
